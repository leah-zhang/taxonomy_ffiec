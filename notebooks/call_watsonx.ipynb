{
 "cells": [
  {
   "cell_type": "markdown",
   "metadata": {
    "id": "a82903fa-2a71-4520-946a-2c448783d95b"
   },
   "source": [
    "This notebook gives an example function to call the watsonx.ai text generation API.\n",
    "\n",
    "Models available on watsonx, with their model IDs: https://dataplatform.cloud.ibm.com/docs/content/wsj/analyze-data/fm-models.html?context=wx  \n",
    "API Documentation: https://cloud.ibm.com/apidocs/watsonx-ai#text-generation"
   ]
  },
  {
   "cell_type": "code",
   "execution_count": 1,
   "metadata": {
    "id": "452f323e-5393-4dbd-9f07-15c0c13f7a59"
   },
   "outputs": [],
   "source": [
    "import requests\n",
    "import json"
   ]
  },
  {
   "cell_type": "code",
   "execution_count": 2,
   "metadata": {
    "id": "a80f70ff-a73d-41f9-8212-055034990052"
   },
   "outputs": [],
   "source": [
    "def get_token(apikey):\n",
    "    token_resp = requests.post(\"https://iam.bluemix.net/identity/token\",\n",
    "                                headers={\n",
    "                                     \"Content-Type\": \"application/x-www-form-urlencoded\",\n",
    "                                     \"Accept\":\"application/json\"\n",
    "                                     },\n",
    "                                data={\n",
    "                                     \"grant_type\": \"urn:ibm:params:oauth:grant-type:apikey\",\n",
    "                                     \"apikey\": apikey\n",
    "                                 },\n",
    "                                verify=True)\n",
    "    \n",
    "    token = json.loads(token_resp.content.decode(\"utf-8\")).get(\"access_token\")\n",
    "    return token\n",
    "\n",
    "def prompt_watsonx_model(model_id, project_id, prompt, token):\n",
    "    url = \"https://us-south.ml.cloud.ibm.com/ml/v1/text/generation?version=2023-05-29\"\n",
    "    \n",
    "    body = {\n",
    "    \t\"input\": prompt,\n",
    "    \t\"parameters\": {\n",
    "    \t\t\"decoding_method\": \"greedy\",\n",
    "    \t\t\"max_new_tokens\": 2000,\n",
    "    \t\t\"min_new_tokens\": 0,\n",
    "    \t\t\"repetition_penalty\": 1\n",
    "    \t},\n",
    "    \t\"model_id\": model_id,\n",
    "    \t\"project_id\": project_id,\n",
    "    \t\n",
    "    }\n",
    "    \n",
    "    headers = {\n",
    "    \t\"Accept\": \"application/json\",\n",
    "    \t\"Content-Type\": \"application/json\",\n",
    "    \t\"Authorization\": f\"Bearer {token}\"\n",
    "    }\n",
    "    \n",
    "    response = requests.post(\n",
    "    \turl,\n",
    "    \theaders=headers,\n",
    "    \tjson=body\n",
    "    )\n",
    "    \n",
    "    if response.status_code != 200:\n",
    "    \traise Exception(\"Non-200 response: \" + str(response.text))\n",
    "    \n",
    "    data = response.json()\n",
    "    return data[\"results\"][0][\"generated_text\"]"
   ]
  },
  {
   "cell_type": "code",
   "execution_count": 3,
   "metadata": {
    "id": "ab5cbd75-6217-4038-a586-a65ae6193e88"
   },
   "outputs": [],
   "source": [
    "# itz-watsonx-6 account api key\n",
    "APIKEY= \"api_key\"\n",
    "project_id= \"project_id\"\n",
    "\n",
    "model_id= \"meta-llama/llama-4-maverick-17b-128e-instruct-fp8\"\n",
    "\n",
    "prompt= \"\"\"\n",
    "<|begin_of_text|><|header_start|>system<|header_end|>\n",
    "\n",
    "You are a helpful assistant<|eot|><|header_start|>user<|header_end|>\n",
    "\n",
    "Write 3 question and answer pairs related to the FFIEC guidelines<|eot|><|header_start|>assistant<|header_end|>\"\"\"\n",
    "\n",
    "token= get_token(APIKEY)\n",
    "output= prompt_watsonx_model(model_id, project_id, prompt, token)"
   ]
  },
  {
   "cell_type": "code",
   "execution_count": 4,
   "metadata": {
    "id": "dd0d52b9-9c75-44e6-8645-1a76bd10589f"
   },
   "outputs": [
    {
     "name": "stdout",
     "output_type": "stream",
     "text": [
      "\n",
      "\n",
      "Here are 3 question and answer pairs related to the FFIEC guidelines:\n",
      "\n",
      "**Q1: What is the purpose of the FFIEC guidelines?**\n",
      "A1: The purpose of the FFIEC (Federal Financial Institutions Examination Council) guidelines is to provide a framework for financial institutions to manage risk and ensure the security and privacy of customer information. The guidelines provide guidance on various aspects of information security, including authentication, risk management, and incident response.\n",
      "\n",
      "**Q2: What are the key elements of the FFIEC's Authentication Guidance?**\n",
      "A2: The FFIEC's Authentication Guidance emphasizes the need for financial institutions to implement robust authentication controls, including multi-factor authentication, to prevent unauthorized access to customer accounts and sensitive information. The guidance identifies four key elements: (1) understanding the risk, (2) implementing effective authentication mechanisms, (3) monitoring and responding to authentication-related incidents, and (4) reviewing and updating authentication controls.\n",
      "\n",
      "**Q3: How often are financial institutions expected to review and update their information security controls under the FFIEC guidelines?**\n",
      "A3: Under the FFIEC guidelines, financial institutions are expected to regularly review and update their information security controls to ensure they remain effective and aligned with evolving threats and risks. The guidelines recommend that institutions perform regular risk assessments and update their controls at least annually, or more frequently if significant changes occur in the institution's risk profile or threat landscape.\n"
     ]
    }
   ],
   "source": [
    "print(output)"
   ]
  },
  {
   "cell_type": "code",
   "execution_count": null,
   "metadata": {
    "id": "9e9a957f-e606-4592-a295-9bc9c9d73dbc"
   },
   "outputs": [],
   "source": []
  }
 ],
 "metadata": {
  "kernelspec": {
   "display_name": "Python 3 (ipykernel)",
   "language": "python",
   "name": "python3"
  },
  "language_info": {
   "codemirror_mode": {
    "name": "ipython",
    "version": 3
   },
   "file_extension": ".py",
   "mimetype": "text/x-python",
   "name": "python",
   "nbconvert_exporter": "python",
   "pygments_lexer": "ipython3",
   "version": "3.9.12"
  }
 },
 "nbformat": 4,
 "nbformat_minor": 4
}
